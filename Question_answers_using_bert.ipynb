{
  "nbformat": 4,
  "nbformat_minor": 0,
  "metadata": {
    "colab": {
      "provenance": [],
      "gpuType": "T4",
      "authorship_tag": "ABX9TyPctxo43rqG4QjqWr686T/A",
      "include_colab_link": true
    },
    "kernelspec": {
      "name": "python3",
      "display_name": "Python 3"
    },
    "language_info": {
      "name": "python"
    },
    "accelerator": "GPU"
  },
  "cells": [
    {
      "cell_type": "markdown",
      "metadata": {
        "id": "view-in-github",
        "colab_type": "text"
      },
      "source": [
        "<a href=\"https://colab.research.google.com/github/dee112003/ML-projects/blob/main/Question_answers_using_bert.ipynb\" target=\"_parent\"><img src=\"https://colab.research.google.com/assets/colab-badge.svg\" alt=\"Open In Colab\"/></a>"
      ]
    },
    {
      "cell_type": "code",
      "execution_count": null,
      "metadata": {
        "id": "kbi91KFDqRZH"
      },
      "outputs": [],
      "source": [
        "!pip install simpletransformers"
      ]
    },
    {
      "cell_type": "code",
      "source": [
        "import json\n",
        "with open(r\"train.json\", \"r\") as read_file:\n",
        "  train = json.load(read_file)"
      ],
      "metadata": {
        "id": "r4TVeEH5scNU"
      },
      "execution_count": null,
      "outputs": []
    },
    {
      "cell_type": "code",
      "source": [
        "train"
      ],
      "metadata": {
        "id": "msZzPoP_tRiy"
      },
      "execution_count": null,
      "outputs": []
    },
    {
      "cell_type": "code",
      "source": [
        "import json\n",
        "with open(r\"test.json\", \"r\") as read_file:\n",
        "  test = json.load(read_file)"
      ],
      "metadata": {
        "id": "aiAfFLjRtr5M"
      },
      "execution_count": null,
      "outputs": []
    },
    {
      "cell_type": "code",
      "source": [
        "test"
      ],
      "metadata": {
        "id": "XzgB8RvOtzcb"
      },
      "execution_count": null,
      "outputs": []
    },
    {
      "cell_type": "code",
      "source": [
        "import logging\n",
        "\n",
        "from simpletransformers.question_answering import QuestionAnsweringModel, QuestionAnsweringArgs"
      ],
      "metadata": {
        "id": "B0nlcWdet8GR"
      },
      "execution_count": null,
      "outputs": []
    },
    {
      "cell_type": "code",
      "source": [
        "model_type=\"bert\"\n",
        "model_name=\"bert-base-cased\"\n",
        "if model_type == \"bert\":\n",
        "  model_name = \"bert-base-cased\"\n",
        "\n",
        "elif model_type == \"roberta\":\n",
        "  model_name = \"roberta-base\"\n",
        "\n",
        "elif model_type == \"distilbert\":\n",
        "  model_name = \"distilbert-base-cased\"\n",
        "\n",
        "elif model_type == \"distilroberta\":\n",
        "  model_type = \"roberta\"\n",
        "  model_name = \"distilroberta-base\"\n",
        "\n",
        "elif model_type == \"electra-base\":\n",
        "  model_type = \"electra\"\n",
        "  model_name = \"google/electra-base-discriminator\"\n",
        "\n",
        "elif model_type == \"electra-small\":\n",
        "  model_type = \"electra\"\n",
        "  model_name = \"google/electra-small-discriminator\"\n",
        "\n",
        "elif model_type == \"xlnet\":\n",
        "  model_name = \"xlnet-base-cased\"\n"
      ],
      "metadata": {
        "id": "QwWnoFptuk73"
      },
      "execution_count": null,
      "outputs": []
    },
    {
      "cell_type": "code",
      "source": [
        "model_args = QuestionAnsweringArgs()\n",
        "model_args.train_batch_size = 16\n",
        "model_args.evaluate_during_training = True\n",
        "model_args.n_best_size = 3\n",
        "model_args.num_train_epochs = 5"
      ],
      "metadata": {
        "id": "Znp1eItzwfHX"
      },
      "execution_count": null,
      "outputs": []
    },
    {
      "cell_type": "code",
      "source": [
        "!pip install wandb\n"
      ],
      "metadata": {
        "id": "iMVhHZtqxLe8"
      },
      "execution_count": null,
      "outputs": []
    },
    {
      "cell_type": "code",
      "source": [
        "train_args ={\n",
        "    \"reprocess_input_data\": True,\n",
        "    \"overwrite_output_dir\": True,\n",
        "    \"use_cached_eval_features\": True,\n",
        "    \"output_dir\": f\"outputs/{model_type}\",\n",
        "    \"best_model_dir\": f\"outputs/{model_type}/best_model\",\n",
        "    \"evaluate_during_training\": True,\n",
        "    \"max_seq_length\": 128,\n",
        "    \"num_train_epochs\": 20,\n",
        "    \"evaluate_during_training_steps\": 1000,\n",
        "    \"wandb_project\": \"Question Answer Application\",\n",
        "    \"wandb_kwargs\": {\"name\": model_name},\n",
        "    \"save_model_every_epoch\": False,\n",
        "    \"save_eval_checkpoints\": False,\n",
        "    \"n_best_size\": 3,\n",
        "    \"train_batch_size\": 128,\n",
        "    \"eval_batch_size\": 64,\n",
        "\n",
        "}"
      ],
      "metadata": {
        "id": "GuOkvzz6zJS2"
      },
      "execution_count": null,
      "outputs": []
    },
    {
      "cell_type": "code",
      "source": [
        "model = QuestionAnsweringModel(model_type, model_name, args=train_args)"
      ],
      "metadata": {
        "id": "tnoo86i_0edx"
      },
      "execution_count": null,
      "outputs": []
    },
    {
      "cell_type": "code",
      "source": [
        "#remove the output folders when retraining the model to avoid chaos\n",
        "!rm -rf outputs"
      ],
      "metadata": {
        "id": "lrvTEhD5086z"
      },
      "execution_count": null,
      "outputs": []
    },
    {
      "cell_type": "code",
      "source": [
        "#Training the model\n",
        "model.train_model(train, eval_data=test)"
      ],
      "metadata": {
        "id": "Jk0fmPe41Iun"
      },
      "execution_count": null,
      "outputs": []
    },
    {
      "cell_type": "code",
      "source": [
        "#evaluate the model\n",
        "result, texts = model.eval_model(test)"
      ],
      "metadata": {
        "id": "0w4Krr9f3diA"
      },
      "execution_count": null,
      "outputs": []
    },
    {
      "cell_type": "code",
      "source": [
        "result"
      ],
      "metadata": {
        "id": "tkNdMjtA3rBy"
      },
      "execution_count": null,
      "outputs": []
    },
    {
      "cell_type": "code",
      "source": [
        "#predict with the model\n",
        "to_predict = [\n",
        "    {\n",
        "        \"context\": \"Vin is a Misborn of great power and skill.\",\n",
        "        \"qas\": [\n",
        "            {\n",
        "                \"question\": \"What is Vin's speciality?\",\n",
        "                \"id\": \"0\"\n",
        "            }\n",
        "        ],\n",
        "    }\n",
        "]"
      ],
      "metadata": {
        "id": "Z6p2P2l15PsX"
      },
      "execution_count": null,
      "outputs": []
    },
    {
      "cell_type": "code",
      "source": [
        "answers, probabilities = model.predict(to_predict)\n",
        "\n",
        "print(answers)"
      ],
      "metadata": {
        "id": "74rV7lqG52YP"
      },
      "execution_count": null,
      "outputs": []
    }
  ]
}